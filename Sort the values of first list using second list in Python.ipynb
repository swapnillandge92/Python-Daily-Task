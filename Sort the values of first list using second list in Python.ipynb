{
 "cells": [
  {
   "cell_type": "code",
   "execution_count": 1,
   "metadata": {},
   "outputs": [
    {
     "data": {
      "text/plain": [
       "['a', 'd', 'h', 'b', 'c', 'e', 'i', 'f', 'g']"
      ]
     },
     "execution_count": 1,
     "metadata": {},
     "output_type": "execute_result"
    }
   ],
   "source": [
    "def sorting_of_element(list1,list2):\n",
    "   \n",
    "    # initializing blank dictionary\n",
    "    f_1 = {}\n",
    "     \n",
    "    # initializing blank list\n",
    "    final_list = []\n",
    "     \n",
    "    # Addition of two list in one dictionary\n",
    "    f_1 = {list1[i]: list2[i] for i in range(len(list2))}\n",
    "     \n",
    "    # sorting of dictionary based on value\n",
    "    f_lst = {k: v for k, v in sorted(f_1.items(), key=lambda item: item[1])}\n",
    "     \n",
    "    # Element addition in the list\n",
    "    for i in f_lst.keys():\n",
    "        final_list.append(i)\n",
    "    return final_list\n",
    "         \n",
    "list1 = [\"a\", \"b\", \"c\", \"d\", \"e\", \"f\", \"g\", \"h\", \"i\"]\n",
    "list2 = [ 0,   1,   1,    0,   1,   2,   2,   0,   1]\n",
    " \n",
    " \n",
    "sorting_of_element(list1,list2)"
   ]
  }
 ],
 "metadata": {
  "kernelspec": {
   "display_name": "Python 3",
   "language": "python",
   "name": "python3"
  },
  "language_info": {
   "codemirror_mode": {
    "name": "ipython",
    "version": 3
   },
   "file_extension": ".py",
   "mimetype": "text/x-python",
   "name": "python",
   "nbconvert_exporter": "python",
   "pygments_lexer": "ipython3",
   "version": "3.6.5"
  }
 },
 "nbformat": 4,
 "nbformat_minor": 2
}
