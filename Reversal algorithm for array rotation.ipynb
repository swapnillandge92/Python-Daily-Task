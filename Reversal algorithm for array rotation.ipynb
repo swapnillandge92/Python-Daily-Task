{
 "cells": [
  {
   "cell_type": "markdown",
   "metadata": {},
   "source": [
    "# Reversal algorithm for array rotation"
   ]
  },
  {
   "cell_type": "code",
   "execution_count": 1,
   "metadata": {},
   "outputs": [
    {
     "name": "stdout",
     "output_type": "stream",
     "text": [
      "3\n",
      "4\n",
      "5\n",
      "6\n",
      "7\n",
      "1\n",
      "2\n"
     ]
    }
   ],
   "source": [
    "def rverseArray(arr, start, end):\n",
    "    while (start < end):\n",
    "        temp = arr[start]\n",
    "        arr[start] = arr[end]\n",
    "        arr[end] = temp\n",
    "        start += 1\n",
    "        end = end-1\n",
    "  \n",
    "# Function to left rotate arr[] of size n by d\n",
    "def leftRotate(arr, d):\n",
    "    n = len(arr)\n",
    "    rverseArray(arr, 0, d-1)\n",
    "    rverseArray(arr, d, n-1)\n",
    "    rverseArray(arr, 0, n-1)\n",
    "  \n",
    "# Function to print an array\n",
    "def printArray(arr):\n",
    "    for i in range(0, len(arr)):\n",
    "        print (arr[i])\n",
    "  \n",
    "# Driver function to test above functions\n",
    "arr = [1, 2, 3, 4, 5, 6, 7]\n",
    "leftRotate(arr, 2) # Rotate array by 2\n",
    "printArray(arr)\n",
    "  "
   ]
  },
  {
   "cell_type": "code",
   "execution_count": null,
   "metadata": {},
   "outputs": [],
   "source": []
  }
 ],
 "metadata": {
  "kernelspec": {
   "display_name": "Python 3",
   "language": "python",
   "name": "python3"
  },
  "language_info": {
   "codemirror_mode": {
    "name": "ipython",
    "version": 3
   },
   "file_extension": ".py",
   "mimetype": "text/x-python",
   "name": "python",
   "nbconvert_exporter": "python",
   "pygments_lexer": "ipython3",
   "version": "3.6.5"
  }
 },
 "nbformat": 4,
 "nbformat_minor": 2
}
