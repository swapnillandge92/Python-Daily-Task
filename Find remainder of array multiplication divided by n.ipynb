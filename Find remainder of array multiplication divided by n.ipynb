{
 "cells": [
  {
   "cell_type": "markdown",
   "metadata": {},
   "source": [
    "# Find remainder of array multiplication divided by n"
   ]
  },
  {
   "cell_type": "code",
   "execution_count": 1,
   "metadata": {},
   "outputs": [
    {
     "name": "stdout",
     "output_type": "stream",
     "text": [
      "9\n"
     ]
    }
   ],
   "source": [
    "def findremainder(arr, lens, n):\n",
    "    mul = 1\n",
    " \n",
    "    # find the individual\n",
    "    # remainder and\n",
    "    # multiple with mul.\n",
    "    for i in arr:\n",
    "        mul = mul * (i % n)\n",
    " \n",
    "    return mul % n\n",
    " \n",
    " \n",
    "# Driven code\n",
    "arr = [100, 10, 5, 25, 35, 14]\n",
    "lens = len(arr)\n",
    "n = 11\n",
    " \n",
    "# print the remainder\n",
    "# of after multiple\n",
    "# all the numbers\n",
    "print(findremainder(arr, lens, n))"
   ]
  },
  {
   "cell_type": "code",
   "execution_count": null,
   "metadata": {},
   "outputs": [],
   "source": [
    "s"
   ]
  }
 ],
 "metadata": {
  "kernelspec": {
   "display_name": "Python 3",
   "language": "python",
   "name": "python3"
  },
  "language_info": {
   "codemirror_mode": {
    "name": "ipython",
    "version": 3
   },
   "file_extension": ".py",
   "mimetype": "text/x-python",
   "name": "python",
   "nbconvert_exporter": "python",
   "pygments_lexer": "ipython3",
   "version": "3.6.5"
  }
 },
 "nbformat": 4,
 "nbformat_minor": 2
}
