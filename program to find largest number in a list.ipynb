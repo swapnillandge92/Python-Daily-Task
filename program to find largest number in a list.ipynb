{
 "cells": [
  {
   "cell_type": "markdown",
   "metadata": {},
   "source": [
    "# program to find largest number in a list"
   ]
  },
  {
   "cell_type": "code",
   "execution_count": 1,
   "metadata": {},
   "outputs": [
    {
     "name": "stdout",
     "output_type": "stream",
     "text": [
      "Enter number of elements in list: 2\n",
      "Enter elements: 1\n",
      "Enter elements: 8\n",
      "Largest element is: 8\n"
     ]
    }
   ],
   "source": [
    "# creating empty list\n",
    "list1 = []\n",
    "  \n",
    "# asking number of elements to put in list\n",
    "num = int(input(\"Enter number of elements in list: \"))\n",
    "  \n",
    "# iterating till num to append elements in list\n",
    "for i in range(1, num + 1):\n",
    "    ele = int(input(\"Enter elements: \"))\n",
    "    list1.append(ele)\n",
    "      \n",
    "# print maximum element\n",
    "print(\"Largest element is:\", max(list1))"
   ]
  },
  {
   "cell_type": "code",
   "execution_count": null,
   "metadata": {},
   "outputs": [],
   "source": []
  }
 ],
 "metadata": {
  "kernelspec": {
   "display_name": "Python 3",
   "language": "python",
   "name": "python3"
  },
  "language_info": {
   "codemirror_mode": {
    "name": "ipython",
    "version": 3
   },
   "file_extension": ".py",
   "mimetype": "text/x-python",
   "name": "python",
   "nbconvert_exporter": "python",
   "pygments_lexer": "ipython3",
   "version": "3.6.5"
  }
 },
 "nbformat": 4,
 "nbformat_minor": 2
}
