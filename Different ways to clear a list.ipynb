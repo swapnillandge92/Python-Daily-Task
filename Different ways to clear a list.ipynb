{
 "cells": [
  {
   "cell_type": "markdown",
   "metadata": {},
   "source": [
    "# Different ways to clear a list"
   ]
  },
  {
   "cell_type": "code",
   "execution_count": 1,
   "metadata": {},
   "outputs": [
    {
     "name": "stdout",
     "output_type": "stream",
     "text": [
      "GEEK before clear: [6, 0, 4, 1]\n",
      "GEEK after clear: []\n"
     ]
    }
   ],
   "source": [
    "# Creating list\n",
    "GEEK = [6, 0, 4, 1]\n",
    "print('GEEK before clear:', GEEK) \n",
    "  \n",
    "# Clearing list \n",
    "GEEK.clear() \n",
    "print('GEEK after clear:', GEEK)"
   ]
  },
  {
   "cell_type": "code",
   "execution_count": null,
   "metadata": {},
   "outputs": [],
   "source": []
  }
 ],
 "metadata": {
  "kernelspec": {
   "display_name": "Python 3",
   "language": "python",
   "name": "python3"
  },
  "language_info": {
   "codemirror_mode": {
    "name": "ipython",
    "version": 3
   },
   "file_extension": ".py",
   "mimetype": "text/x-python",
   "name": "python",
   "nbconvert_exporter": "python",
   "pygments_lexer": "ipython3",
   "version": "3.6.5"
  }
 },
 "nbformat": 4,
 "nbformat_minor": 2
}
