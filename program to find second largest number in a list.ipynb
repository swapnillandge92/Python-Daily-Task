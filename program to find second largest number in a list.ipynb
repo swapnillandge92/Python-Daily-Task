{
 "cells": [
  {
   "cell_type": "markdown",
   "metadata": {},
   "source": [
    "# program to find second largest number in a list"
   ]
  },
  {
   "cell_type": "code",
   "execution_count": 2,
   "metadata": {},
   "outputs": [
    {
     "ename": "SyntaxError",
     "evalue": "EOF while scanning triple-quoted string literal (<ipython-input-2-9fa90569826f>, line 20)",
     "output_type": "error",
     "traceback": [
      "\u001b[1;36m  File \u001b[1;32m\"<ipython-input-2-9fa90569826f>\"\u001b[1;36m, line \u001b[1;32m20\u001b[0m\n\u001b[1;33m    print(\"Second largest element is:\", sorted(list1)[-2])\u001b[0m\n\u001b[1;37m                                                          \n^\u001b[0m\n\u001b[1;31mSyntaxError\u001b[0m\u001b[1;31m:\u001b[0m EOF while scanning triple-quoted string literal\n"
     ]
    }
   ],
   "source": [
    "# creating empty list\n",
    "list1 = []\n",
    " \n",
    "# asking number of elements to put in list\n",
    "num = int(input(\"Enter number of elements in list: \"))\n",
    " \n",
    "# iterating till num to append elements in list\n",
    "for i in range(1, num + 1):\n",
    "    ele = int(input(\"Enter elements: \"))\n",
    "    list1.append(ele)\n",
    "\n",
    "...\n",
    "list1.sort()\n",
    "     \n",
    "# print second maximum element\n",
    "print(\"Second largest element is:\", list1[-2])\n",
    " \n",
    "'''\n",
    " \n",
    "# print second maximum element using sorted() method\n",
    "print(\"Second largest element is:\", sorted(list1)[-2])"
   ]
  },
  {
   "cell_type": "code",
   "execution_count": null,
   "metadata": {},
   "outputs": [],
   "source": []
  }
 ],
 "metadata": {
  "kernelspec": {
   "display_name": "Python 3",
   "language": "python",
   "name": "python3"
  },
  "language_info": {
   "codemirror_mode": {
    "name": "ipython",
    "version": 3
   },
   "file_extension": ".py",
   "mimetype": "text/x-python",
   "name": "python",
   "nbconvert_exporter": "python",
   "pygments_lexer": "ipython3",
   "version": "3.6.5"
  }
 },
 "nbformat": 4,
 "nbformat_minor": 2
}
