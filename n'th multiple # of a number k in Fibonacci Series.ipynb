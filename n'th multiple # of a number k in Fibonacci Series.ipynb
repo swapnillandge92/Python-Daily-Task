{
 "cells": [
  {
   "cell_type": "markdown",
   "metadata": {},
   "source": [
    "# n\\'th multiple of a mumber k in Fibonacci Series"
   ]
  },
  {
   "cell_type": "code",
   "execution_count": 1,
   "metadata": {},
   "outputs": [
    {
     "name": "stdout",
     "output_type": "stream",
     "text": [
      "Position of n'th multiple of k inFibonacci Seires is 30\n"
     ]
    }
   ],
   "source": [
    "def findPosition(k, n):\n",
    "    f1 = 0\n",
    "    f2 = 1\n",
    "    i =2; \n",
    "    while i!=0:\n",
    "        f3 = f1 + f2;\n",
    "        f1 = f2;\n",
    "        f2 = f3;\n",
    "  \n",
    "        if f2%k == 0:\n",
    "            return n*i\n",
    "  \n",
    "        i+=1\n",
    "          \n",
    "    return \n",
    "  \n",
    "  \n",
    "\n",
    "n = 5;\n",
    "\n",
    "k = 4;\n",
    "  \n",
    "print(\"Position of n\\'th multiple of k in\"\n",
    "                \"Fibonacci Seires is\", findPosition(k,n));"
   ]
  }
 ],
 "metadata": {
  "kernelspec": {
   "display_name": "Python 3",
   "language": "python",
   "name": "python3"
  },
  "language_info": {
   "codemirror_mode": {
    "name": "ipython",
    "version": 3
   },
   "file_extension": ".py",
   "mimetype": "text/x-python",
   "name": "python",
   "nbconvert_exporter": "python",
   "pygments_lexer": "ipython3",
   "version": "3.6.5"
  }
 },
 "nbformat": 4,
 "nbformat_minor": 2
}
