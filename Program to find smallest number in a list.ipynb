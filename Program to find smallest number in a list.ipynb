{
 "cells": [
  {
   "cell_type": "markdown",
   "metadata": {},
   "source": [
    "# Program to find smallest number in a list"
   ]
  },
  {
   "cell_type": "code",
   "execution_count": 2,
   "metadata": {},
   "outputs": [
    {
     "name": "stdout",
     "output_type": "stream",
     "text": [
      "Enter number of elements in list: 3\n",
      "Enter elements: 10\n",
      "Enter elements: 20\n",
      "Enter elements: 10\n",
      "Smallest element is: 10\n"
     ]
    }
   ],
   "source": [
    "# creating empty list\n",
    "list1 = []\n",
    " \n",
    "# asking number of elements to put in list\n",
    "num = int(input(\"Enter number of elements in list: \"))\n",
    " \n",
    "# iterating till num to append elements in list\n",
    "for i in range(1, num + 1):\n",
    "    ele= int(input(\"Enter elements: \"))\n",
    "    list1.append(ele)\n",
    "     \n",
    "# print maximum element\n",
    "print(\"Smallest element is:\", min(list1))"
   ]
  },
  {
   "cell_type": "code",
   "execution_count": null,
   "metadata": {},
   "outputs": [],
   "source": []
  },
  {
   "cell_type": "code",
   "execution_count": null,
   "metadata": {},
   "outputs": [],
   "source": []
  }
 ],
 "metadata": {
  "kernelspec": {
   "display_name": "Python 3",
   "language": "python",
   "name": "python3"
  },
  "language_info": {
   "codemirror_mode": {
    "name": "ipython",
    "version": 3
   },
   "file_extension": ".py",
   "mimetype": "text/x-python",
   "name": "python",
   "nbconvert_exporter": "python",
   "pygments_lexer": "ipython3",
   "version": "3.6.5"
  }
 },
 "nbformat": 4,
 "nbformat_minor": 2
}
